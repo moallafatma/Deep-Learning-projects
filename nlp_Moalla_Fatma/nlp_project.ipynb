{
  "nbformat": 4,
  "nbformat_minor": 0,
  "metadata": {
    "kernelspec": {
      "name": "python3",
      "display_name": "Python 3"
    },
    "language_info": {
      "codemirror_mode": {
        "name": "ipython",
        "version": 3
      },
      "file_extension": ".py",
      "mimetype": "text/x-python",
      "name": "python",
      "nbconvert_exporter": "python",
      "pygments_lexer": "ipython3",
      "version": "3.7.3"
    },
    "colab": {
      "name": "nlp_project_MVA_Fatma_Moalla.ipynb",
      "provenance": [],
      "collapsed_sections": []
    },
    "accelerator": "GPU"
  },
  "cells": [
    {
      "cell_type": "markdown",
      "metadata": {
        "id": "6snlX7b0ejPd",
        "colab_type": "text"
      },
      "source": [
        "# Deep Learning for NLP - Project"
      ]
    },
    {
      "cell_type": "markdown",
      "metadata": {
        "id": "np2pXXs-ejPi",
        "colab_type": "text"
      },
      "source": [
        "RULES:\n",
        "\n",
        "* Do not create any additional cell\n",
        "\n",
        "* Fill in the blanks\n",
        "\n",
        "* All cells should be runnable (modulo trivial compatibility bugs that we'd fix)\n",
        "\n",
        "* 4 / 20 points will be allocated to the clarity of your code\n",
        "\n",
        "* Efficient code will have a bonus\n",
        "\n",
        "DELIVERABLE:\n",
        "\n",
        "* the pdf with your answers\n",
        "* this notebook\n",
        "* the predictions of the SST test set\n",
        "\n",
        "DO NOT INCLUDE THE DATASETS IN THE DELIVERABLE.."
      ]
    },
    {
      "cell_type": "code",
      "metadata": {
        "jupyter": {
          "outputs_hidden": false
        },
        "id": "Xbv0-sCyejPk",
        "colab_type": "code",
        "colab": {}
      },
      "source": [
        "# Python 3.6 or above is required\n",
        "from urllib.request import urlretrieve\n",
        "from collections import defaultdict\n",
        "import gzip\n",
        "import numpy as np\n",
        "from pathlib import Path\n",
        "import os"
      ],
      "execution_count": 0,
      "outputs": []
    },
    {
      "cell_type": "code",
      "metadata": {
        "id": "NTV3hMVJmMKQ",
        "colab_type": "code",
        "colab": {
          "base_uri": "https://localhost:8080/",
          "height": 54
        },
        "outputId": "b4bdc88b-ae9e-4f15-df20-83081e8f54e3"
      },
      "source": [
        "from google.colab import drive\n",
        "drive.mount('/content/drive')"
      ],
      "execution_count": 23,
      "outputs": [
        {
          "output_type": "stream",
          "text": [
            "Drive already mounted at /content/drive; to attempt to forcibly remount, call drive.mount(\"/content/drive\", force_remount=True).\n"
          ],
          "name": "stdout"
        }
      ]
    },
    {
      "cell_type": "code",
      "metadata": {
        "id": "T5sHB0zHm85F",
        "colab_type": "code",
        "colab": {
          "base_uri": "https://localhost:8080/",
          "height": 34
        },
        "outputId": "e777eefd-a045-4bae-d9e1-017d9bf16c75"
      },
      "source": [
        "cd '/content/drive/My Drive/'"
      ],
      "execution_count": 24,
      "outputs": [
        {
          "output_type": "stream",
          "text": [
            "/content/drive/My Drive\n"
          ],
          "name": "stdout"
        }
      ]
    },
    {
      "cell_type": "code",
      "metadata": {
        "id": "wHygZPtpnDrg",
        "colab_type": "code",
        "colab": {
          "base_uri": "https://localhost:8080/",
          "height": 34
        },
        "outputId": "38f29d89-fb59-4429-bda6-19f18d6d9dbc"
      },
      "source": [
        "cd 'Centrale 3A '/OMA/DL"
      ],
      "execution_count": 25,
      "outputs": [
        {
          "output_type": "stream",
          "text": [
            "/content/drive/My Drive/Centrale 3A /OMA/DL\n"
          ],
          "name": "stdout"
        }
      ]
    },
    {
      "cell_type": "code",
      "metadata": {
        "id": "374iYAxrejPr",
        "colab_type": "code",
        "colab": {}
      },
      "source": [
        "PATH_TO_DATA = Path('data/')\n",
        "# Download word vectors, might take a few minutes and about ~3GB of storage space\n",
        "en_embeddings_path = PATH_TO_DATA / 'cc.en.300.vec.gz'\n",
        "if not en_embeddings_path.exists():\n",
        "    urlretrieve('https://dl.fbaipublicfiles.com/fasttext/vectors-crawl/cc.en.300.vec.gz', en_embeddings_path)\n",
        "fr_embeddings_path = PATH_TO_DATA / 'cc.fr.300.vec.gz'\n",
        "if not fr_embeddings_path.exists():\n",
        "    urlretrieve('https://dl.fbaipublicfiles.com/fasttext/vectors-crawl/cc.fr.300.vec.gz', fr_embeddings_path)"
      ],
      "execution_count": 0,
      "outputs": []
    },
    {
      "cell_type": "markdown",
      "metadata": {
        "id": "QpqxU6DoejPv",
        "colab_type": "text"
      },
      "source": [
        "# 1) Monolingual (English) word embeddings "
      ]
    },
    {
      "cell_type": "code",
      "metadata": {
        "id": "0BNWx9KaejPx",
        "colab_type": "code",
        "colab": {}
      },
      "source": [
        "import pdb\n",
        "\n",
        "class Word2Vec():\n",
        "\n",
        "    def __init__(self, filepath, vocab_size=50000):\n",
        "        self.words, self.embeddings = self.load_wordvec(filepath, vocab_size)\n",
        "        # Mappings for O(1) retrieval:\n",
        "        self.word2id = {word: idx for idx, word in enumerate(self.words)}\n",
        "        self.id2word = {idx: word for idx, word in enumerate(self.words)}\n",
        "    \n",
        "    def load_wordvec(self, filepath, vocab_size):\n",
        "        assert str(filepath).endswith('.gz')\n",
        "        words = []\n",
        "        embeddings = []\n",
        "        with gzip.open(filepath, 'rt') as f:  # Read compressed file directly\n",
        "            next(f)  # Skip header\n",
        "            for i, line in enumerate(f):\n",
        "                word, vec = line.split(' ', 1)\n",
        "                words.append(word)\n",
        "                embeddings.append(np.fromstring(vec, sep=' '))\n",
        "                if i == (vocab_size - 1):\n",
        "                    break\n",
        "        print('Loaded %s pretrained word vectors' % (len(words)))\n",
        "        return words, np.vstack(embeddings)\n",
        "    \n",
        "    def encode(self, word):\n",
        "        # Returns the 1D embedding of a given word\n",
        "        #get word id\n",
        "        id_word = self.word2id[word]\n",
        "        return self.embeddings[id_word]\n",
        "        #raise NotImplementedError('Fill in the blank')\n",
        "    \n",
        "    def score(self, word1, word2):\n",
        "        # Return the cosine similarity: use np.dot & np.linalg.norm\n",
        "        #compute embeddings\n",
        "        word1_emb = self.encode(word1)\n",
        "        word2_emb = self.encode(word2)\n",
        "        #compute scalar product\n",
        "        scalar_prod = np.dot(word1_emb, word2_emb)\n",
        "        return scalar_prod/(np.linalg.norm(word1_emb)*np.linalg.norm(word2_emb))\n",
        "        #raise NotImplementedError('Fill in the blank')\n",
        "    \n",
        "    def most_similar(self, word, k=5):\n",
        "        # Returns the k most similar words: self.score & np.argsort\n",
        "        sim_scores = [self.score(word, other_word) for other_word in self.words]\n",
        "        most_similar_words = [self.id2word[idx] for idx in np.argsort(sim_scores)[::-1][:k]]\n",
        "        \n",
        "        return most_similar_words    \n",
        "        #raise NotImplementedError('Fill in the blank')"
      ],
      "execution_count": 0,
      "outputs": []
    },
    {
      "cell_type": "code",
      "metadata": {
        "jupyter": {
          "outputs_hidden": false
        },
        "id": "Tb6r5ULOejP1",
        "colab_type": "code",
        "outputId": "cd09adc7-7e23-44d4-c05c-dedf03018425",
        "colab": {
          "base_uri": "https://localhost:8080/",
          "height": 238
        }
      },
      "source": [
        "word2vec = Word2Vec(en_embeddings_path, vocab_size=50000)\n",
        "\n",
        "# You will be evaluated on the output of the following:\n",
        "for word1, word2 in zip(('cat', 'cat', 'cat', 'Paris', 'Paris', 'Paris', 'Paris'), ('tree', 'dog', 'pet', 'France', 'Germany', 'baguette', 'donut')):\n",
        "    print(word1, word2, word2vec.score(word1, word2))\n",
        "for word in ['cat', 'dog', 'dogs', 'Paris', 'Germany']:\n",
        "    print(f\"{word2vec.most_similar(word)} are the most similar words to :{word}\")"
      ],
      "execution_count": 8,
      "outputs": [
        {
          "output_type": "stream",
          "text": [
            "Loaded 50000 pretrained word vectors\n",
            "cat tree 0.2644975466165475\n",
            "cat dog 0.7078641298542562\n",
            "cat pet 0.6753313359976381\n",
            "Paris France 0.6892958925806542\n",
            "Paris Germany 0.4051242286737548\n",
            "Paris baguette 0.29399958277802224\n",
            "Paris donut -0.006588507552348005\n",
            "['cat', 'cats', 'kitty', 'kitten', 'feline'] are the most similar words to :cat\n",
            "['dog', 'dogs', 'puppy', 'pup', 'canine'] are the most similar words to :dog\n",
            "['dogs', 'dog', 'cats', 'puppies', 'Dogs'] are the most similar words to :dogs\n",
            "['Paris', 'France', 'Parisian', 'Marseille', 'Brussels'] are the most similar words to :Paris\n",
            "['Germany', 'Austria', 'Europe', 'Berlin', 'Hamburg'] are the most similar words to :Germany\n"
          ],
          "name": "stdout"
        }
      ]
    },
    {
      "cell_type": "code",
      "metadata": {
        "jupyter": {
          "outputs_hidden": false
        },
        "id": "fhzGOYdSejP8",
        "colab_type": "code",
        "colab": {}
      },
      "source": [
        "class BagOfWords():\n",
        "    \n",
        "    def __init__(self, word2vec):\n",
        "        self.word2vec = word2vec\n",
        "        #self.idf_dict = None\n",
        "        \n",
        "    def build_idf(self, sentences):\n",
        "        # build the idf dictionary: associate each word to its idf value\n",
        "        # -> idf = {word: idf_value, ...}\n",
        "        idf={}   \n",
        "        # init phase: \n",
        "        idf={ word : 0 for word in self.word2vec.words }\n",
        "\n",
        "        #count the number of occurences\n",
        "        for s in sentences:\n",
        "            if type(s) !=list:\n",
        "                words = s.split(' ')\n",
        "            else:\n",
        "                words = s\n",
        "            for word in words:\n",
        "                if word in self.word2vec.words:\n",
        "                    idf[word] += 1\n",
        "        # constrcut the idf dict for each word\n",
        "        idf_dict = {word: np.log(len(sentences)/vec) for word,vec in idf.items() if vec!=0 }\n",
        "        return idf_dict\n",
        "        \n",
        "    def encode(self, sentence, idf):\n",
        "        # Takes a sentence as input, returns the sentence embedding\n",
        "        if type(sentence) !=list:\n",
        "                words = sentence.split(' ')\n",
        "        else:\n",
        "                words = sentence\n",
        "\n",
        "        if idf == None:\n",
        "            # mean of word vectors\n",
        "            sent_embed = np.mean([self.word2vec.encode(w) for w in words if w in self.word2vec.word2id],axis=0)\n",
        "        else:\n",
        "            # idf-weighted mean of word vectors\n",
        "            sent_embed = np.mean([self.word2vec.encode(w)*idf[w] for w in words if w in self.word2vec.word2id],axis=0)\n",
        "        return sent_embed\n",
        "\n",
        "\n",
        "    def score(self, sentence1, sentence2, idf):\n",
        "        # cosine similarity: use np.dot & np.linalg.norm \n",
        "        embedding1 = self.encode(sentence1, idf)\n",
        "        embedding2  = self.encode(sentence2, idf)\n",
        "        return np.dot(embedding1, embedding2)/(np.linalg.norm(embedding1)*np.linalg.norm(embedding2))\n",
        "\n",
        "    \n",
        "    def most_similar(self, sentence, sentences, idf, k=5):\n",
        "        \n",
        "        sim_scores = [self.score(sentence, key, idf) for key in sentences]\n",
        "        most_similar_sentences = [sentences[idx] for idx in np.argsort(sim_scores)[len(sim_scores)-k-1:]]\n",
        "        return most_similar_sentences \n",
        "        "
      ],
      "execution_count": 0,
      "outputs": []
    },
    {
      "cell_type": "code",
      "metadata": {
        "jupyter": {
          "outputs_hidden": false
        },
        "id": "tniEXFuVejQA",
        "colab_type": "code",
        "outputId": "1e36f87f-3bd2-4379-8558-21d59268e251",
        "colab": {
          "base_uri": "https://localhost:8080/",
          "height": 462
        }
      },
      "source": [
        "word2vec = Word2Vec(en_embeddings_path, vocab_size=50000)\n",
        "sentence2vec = BagOfWords(word2vec)\n",
        "\n",
        "# Load sentences in \"PATH_TO_DATA/sentences.txt\"\n",
        "filepath = PATH_TO_DATA / 'sentences.txt'\n",
        "with open(filepath, 'r') as f:\n",
        "    sentences = [line.strip('\\n') for line in f]\n",
        "\n",
        "\n",
        "# You will be evaluated on the output of the following:\n",
        "print('\\n\\tAverage of word embeddings')\n",
        "sentence1 = sentences[7]\n",
        "sentence2 = sentences[13]\n",
        "print(sentence1)\n",
        "print(sentence2)\n",
        "print(sentence2vec.score(sentence1, sentence2, None))\n",
        "sentence = sentences[10]\n",
        "similar_sentences = sentence2vec.most_similar(sentence, sentences, None)  # BagOfWords-mean\n",
        "print(sentence)\n",
        "for i, sentence in enumerate(similar_sentences):\n",
        "    print(str(i+1) + ')', sentence)\n",
        "\n",
        "    \n",
        "# Build idf scores for each word\n",
        "idf = sentence2vec.build_idf(sentences)\n",
        "\n",
        "print('\\n\\tidf weighted average of word embeddings')\n",
        "print(sentence1)\n",
        "print(sentence2)\n",
        "print(sentence2vec.score(sentence1, sentence2, idf))\n",
        "sentence = sentences[10]\n",
        "similar_sentences = sentence2vec.most_similar(sentence, sentences, idf)  # BagOfWords-idf\n",
        "print(sentence)\n",
        "for i, sentence in enumerate(similar_sentences):\n",
        "    print(str(i+1) + ')', sentence)"
      ],
      "execution_count": 10,
      "outputs": [
        {
          "output_type": "stream",
          "text": [
            "Loaded 50000 pretrained word vectors\n",
            "\n",
            "\tAverage of word embeddings\n",
            "1 man singing and 1 man playing a saxophone in a concert . \n",
            "10 people venture out to go crosscountry skiing . \n",
            "0.7065220648251476\n",
            "1 smiling african american boy . \n",
            "1) a young boy and 2 girls open christmas presents . \n",
            "2) 2 female babies eating chips . \n",
            "3) a small boy following 4 geese . \n",
            "4) 5 women and 1 man are smiling for the camera . \n",
            "5) 2 woman dancing while pointing . \n",
            "6) 1 smiling african american boy . \n",
            "\n",
            "\tidf weighted average of word embeddings\n",
            "1 man singing and 1 man playing a saxophone in a concert . \n",
            "10 people venture out to go crosscountry skiing . \n",
            "0.6230172138542661\n",
            "1 smiling african american boy . \n",
            "1) 3 males and 1 woman enjoying a sporting event \n",
            "2) 5 women and 1 man are smiling for the camera . \n",
            "3) 2 guys facing away from camera , 1 girl smiling at camera with blue shirt , 1 guy with a beverage with a jacket on . \n",
            "4) two women and 1 man walking across the street . \n",
            "5) 1 man singing and 1 man playing a saxophone in a concert . \n",
            "6) 1 smiling african american boy . \n"
          ],
          "name": "stdout"
        }
      ]
    },
    {
      "cell_type": "markdown",
      "metadata": {
        "id": "fnq0GlFhejQF",
        "colab_type": "text"
      },
      "source": [
        "# 2) Multilingual (English-French) word embeddings"
      ]
    },
    {
      "cell_type": "markdown",
      "metadata": {
        "id": "bVkneXZcejQG",
        "colab_type": "text"
      },
      "source": [
        "Let's consider a bilingual dictionary of size V_a (e.g French-English).\n",
        "\n",
        "Let's define **X** and **Y** the **French** and **English** matrices.\n",
        "\n",
        "They contain the embeddings associated to the words in the bilingual dictionary.\n",
        "\n",
        "We want to find a **mapping W** that will project the source word space (e.g French) to the target word space (e.g English).\n",
        "\n",
        "Procrustes : **W\\* = argmin || W.X - Y ||  s.t  W^T.W = Id**\n",
        "has a closed form solution:\n",
        "**W = U.V^T  where  U.Sig.V^T = SVD(Y.X^T)**\n",
        "\n",
        "In what follows, you are asked to: "
      ]
    },
    {
      "cell_type": "code",
      "metadata": {
        "id": "-2HF-hqJejQH",
        "colab_type": "code",
        "colab": {}
      },
      "source": [
        "class MultilingualWordAligner:\n",
        "    \n",
        "    def __init__(self, fr_word2vec, en_word2vec):\n",
        "        self.fr_word2vec = fr_word2vec\n",
        "        self.en_word2vec = en_word2vec\n",
        "        self.aligned_fr_embeddings = self.get_aligned_fr_embeddings()\n",
        "        \n",
        "    def get_aligned_fr_embeddings(self):\n",
        "        # 1 - Get words that appear in both vocabs (= identical character strings)\n",
        "        # Use it to create the matrix X (emb_dim, vocab_size) and Y (emb_dim, vocab_size) (of embeddings for these words)\n",
        "        commun_vocab = [ w for w in self.en_word2vec.words if w in self.fr_word2vec.words]\n",
        "\n",
        "        X, Y = [], []\n",
        "        for word in commun_vocab:\n",
        "              X.append(self.fr_word2vec.encode(word))\n",
        "              Y.append(self.en_word2vec.encode(word))\n",
        "        X = np.vstack(X).T\n",
        "        Y = np.vstack(Y).T\n",
        "        assert X.shape[0] == 300 and Y.shape[0] == 300\n",
        "\n",
        "\n",
        "        \n",
        "        # 2 - Solve the Procrustes using the numpy package and: np.linalg.svd() and get the optimal W\n",
        "        #     Now self.fr_word2vec.embeddings * W.transpose() is in the same space as en_word2vec.embeddings\n",
        "\n",
        "        U, S, V = np.linalg.svd(np.dot(Y,X.T),full_matrices=False)\n",
        "        W = np.dot(U,V)\n",
        "        assert W.shape == (300, 300)\n",
        "        return np.matmul(fr_word2vec.embeddings, W.transpose())\n",
        "        \n",
        "    def get_closest_english_words(self, fr_word, k=3):\n",
        "        # 3 - Return the top k English nearest neighbors to the input French word\n",
        "\n",
        "        fr_word_emb = self.aligned_fr_embeddings[self.fr_word2vec.word2id[fr_word]]\n",
        "        sim_scores = np.array([np.dot(fr_word_emb, en_word_emb)/(np.linalg.norm(fr_word_emb)*np.linalg.norm(en_word_emb)) for en_word_emb in self.en_word2vec.embeddings])\n",
        "        most_similar_words = [self.en_word2vec.id2word[idx] for idx in np.argsort(sim_scores)[len(sim_scores)-k:]]\n",
        "        return most_similar_words"
      ],
      "execution_count": 0,
      "outputs": []
    },
    {
      "cell_type": "code",
      "metadata": {
        "id": "V_VyMQCTejQK",
        "colab_type": "code",
        "outputId": "6ad3c57f-8782-408e-b2db-c6c51aa58cf7",
        "colab": {
          "base_uri": "https://localhost:8080/",
          "height": 391
        }
      },
      "source": [
        "fr_word2vec = Word2Vec(fr_embeddings_path, vocab_size=50000)\n",
        "en_word2vec = Word2Vec(en_embeddings_path, vocab_size=50000)\n",
        "multilingual_word_aligner = MultilingualWordAligner(fr_word2vec, en_word2vec)\n",
        "\n",
        "# You will be evaluated on the output of the following:\n",
        "fr_words = ['chat', 'chien', 'voiture', 'zut']\n",
        "k = 3\n",
        "for fr_word in fr_words:\n",
        "    print('-' * 10)\n",
        "    print(f'fr: \"{fr_word}\"')\n",
        "    en_words = multilingual_word_aligner.get_closest_english_words(fr_word, k=3)\n",
        "    for en_word in en_words: \n",
        "        print(f'en: \"{en_word}\"')"
      ],
      "execution_count": 12,
      "outputs": [
        {
          "output_type": "stream",
          "text": [
            "Loaded 50000 pretrained word vectors\n",
            "Loaded 50000 pretrained word vectors\n",
            "----------\n",
            "fr: \"chat\"\n",
            "en: \"kitty\"\n",
            "en: \"kitten\"\n",
            "en: \"cat\"\n",
            "----------\n",
            "fr: \"chien\"\n",
            "en: \"pet\"\n",
            "en: \"cat\"\n",
            "en: \"dog\"\n",
            "----------\n",
            "fr: \"voiture\"\n",
            "en: \"automobile\"\n",
            "en: \"vehicle\"\n",
            "en: \"car\"\n",
            "----------\n",
            "fr: \"zut\"\n",
            "en: \"ah\"\n",
            "en: \"Ah\"\n",
            "en: \"oops\"\n"
          ],
          "name": "stdout"
        }
      ]
    },
    {
      "cell_type": "markdown",
      "metadata": {
        "id": "qbYXdf1bejQO",
        "colab_type": "text"
      },
      "source": [
        "If you want to dive deeper on this subject: https://github.com/facebookresearch/MUSE"
      ]
    },
    {
      "cell_type": "markdown",
      "metadata": {
        "id": "f0S6SXOLejQP",
        "colab_type": "text"
      },
      "source": [
        "# 3) Sentence classification with BoV and scikit-learn"
      ]
    },
    {
      "cell_type": "code",
      "metadata": {
        "id": "H434ESIcejQQ",
        "colab_type": "code",
        "outputId": "b091a954-02bf-42f1-a553-f8cba1c2b4db",
        "colab": {
          "base_uri": "https://localhost:8080/",
          "height": 102
        }
      },
      "source": [
        "# 1 - Load train/dev/test of Stanford Sentiment TreeBank (SST)\n",
        "#     (https://nlp.stanford.edu/~socherr/EMNLP2013_RNTN.pdf)\n",
        "PATH_TO_DATA = Path('data/')\n",
        "train_filepath = PATH_TO_DATA / 'SST/stsa.fine.train'\n",
        "dev_filepath = PATH_TO_DATA / 'SST/stsa.fine.dev'\n",
        "test_filepath = PATH_TO_DATA / 'SST/stsa.fine.test.X'\n",
        "\n",
        "# TYPE CODE HERE\n",
        "\n",
        "def read_sentences(path, put_label=False):\n",
        "    sentences = []\n",
        "    labels = []\n",
        "\n",
        "    print('Loading sentences...')\n",
        "    file = open(os.path.join(path), \"r\")\n",
        "    for line in file:\n",
        "        sentences.append(line.split()[1:]) \n",
        "        if put_label:\n",
        "            labels.append(line.split()[0])\n",
        "    labels = [int(labels[i]) for i in range(len(labels))]\n",
        "    if put_label:\n",
        "        return sentences, labels\n",
        "    return sentences\n",
        "\n",
        "\n",
        "\n",
        "train_sst, train_labels = read_sentences(train_filepath, put_label=True)\n",
        "val_sst, val_labels = read_sentences(dev_filepath, put_label=True)\n",
        "test_sst = read_sentences(test_filepath)\n",
        "sentences_all = train_sst+val_sst+test_sst\n",
        "print(f\"train:{len(train_sst)}, val:{len(val_sst)}, test:{len(test_sst)}\")\n",
        "print('All sentences:',len(sentences_all))"
      ],
      "execution_count": 30,
      "outputs": [
        {
          "output_type": "stream",
          "text": [
            "Loading sentences...\n",
            "Loading sentences...\n",
            "Loading sentences...\n",
            "train:8544, val:1101, test:2210\n",
            "All sentences: 11855\n"
          ],
          "name": "stdout"
        }
      ]
    },
    {
      "cell_type": "code",
      "metadata": {
        "id": "6fF-JbB0ejQU",
        "colab_type": "code",
        "outputId": "16b22c56-298b-4d20-d414-ccbd0a3e30f3",
        "colab": {
          "base_uri": "https://localhost:8080/",
          "height": 34
        }
      },
      "source": [
        "# 2 - Encode sentences with the BoV model above\n",
        "word2vec = Word2Vec(en_embeddings_path, vocab_size=50000)\n",
        "sentence2vec = BagOfWords(word2vec)\n",
        "idf = sentence2vec.build_idf(sentences_all)\n",
        "\n",
        "idf = {} if False else sentence2vec.build_idf(sentences_all)\n",
        "X_train = np.vstack([sentence2vec.encode(sentence, idf) for sentence in train_sst])\n",
        "y_train = np.array(train_labels)\n",
        "X_val = np.vstack([sentence2vec.encode(sentence, idf) for sentence in val_sst])\n",
        "y_val = np.array(val_labels)\n",
        "X_test = np.vstack([sentence2vec.encode(sentence, idf) for sentence in test_sst])\n"
      ],
      "execution_count": 31,
      "outputs": [
        {
          "output_type": "stream",
          "text": [
            "Loaded 50000 pretrained word vectors\n"
          ],
          "name": "stdout"
        }
      ]
    },
    {
      "cell_type": "code",
      "metadata": {
        "id": "sDXm-rLv-oJ4",
        "colab_type": "code",
        "colab": {
          "base_uri": "https://localhost:8080/",
          "height": 34
        },
        "outputId": "e69f5e1e-928f-4a57-9724-88f12ffba57b"
      },
      "source": [
        "### Don't include idf :\n",
        "X_train_0 = np.vstack([sentence2vec.encode(sentence,idf=None) for sentence in train_sst])\n",
        "X_val_0 = np.vstack([sentence2vec.encode(sentence,idf=None) for sentence in val_sst])\n",
        "X_test_0 = np.vstack([sentence2vec.encode(sentence,idf=None) for sentence in test_sst])\n",
        "\n",
        "print(np.shape(X_test_0))"
      ],
      "execution_count": 34,
      "outputs": [
        {
          "output_type": "stream",
          "text": [
            "(2210, 300)\n"
          ],
          "name": "stdout"
        }
      ]
    },
    {
      "cell_type": "code",
      "metadata": {
        "id": "Ygv6YlprejQX",
        "colab_type": "code",
        "outputId": "25b46fa2-111b-46ba-e1ab-13fb0e7cb3cc",
        "colab": {
          "base_uri": "https://localhost:8080/",
          "height": 51
        }
      },
      "source": [
        "# 3 - Learn Logistic Regression on top of sentence embeddings using scikit-learn\n",
        "#     (consider tuning the L2 regularization on the dev set)\n",
        "#     In the paper, the accuracy for average of word vectors is 32.7%\n",
        "#     (VecAvg, table 1, https://nlp.stanford.edu/~socherr/EMNLP2013_RNTN.pdf)\n",
        "\n",
        "# With idf input\n",
        "from sklearn.linear_model import LogisticRegression\n",
        "from sklearn.metrics import accuracy_score\n",
        "\n",
        "lr = LogisticRegression(random_state=0, penalty='l2',max_iter=2000,C=1)\n",
        "lr.fit(X_train, y_train)\n",
        "train_pred = lr.predict(X_train)\n",
        "val_pred = lr.predict(X_val)\n",
        "\n",
        "print('Precision on train set', round(accuracy_score(train_labels,train_pred),4)*100,'%')\n",
        "print('Precision on val set', round(accuracy_score(val_labels,val_pred),4)*100,'%')\n"
      ],
      "execution_count": 19,
      "outputs": [
        {
          "output_type": "stream",
          "text": [
            "Precision on train set 47.260000000000005 %\n",
            "Precision on val set 41.24 %\n"
          ],
          "name": "stdout"
        }
      ]
    },
    {
      "cell_type": "code",
      "metadata": {
        "id": "9lj2kz6Z_Mdf",
        "colab_type": "code",
        "colab": {
          "base_uri": "https://localhost:8080/",
          "height": 68
        },
        "outputId": "86b1f4f2-75c0-4e22-950b-4d25507a0e84"
      },
      "source": [
        "# Without idf input \n",
        "from sklearn.linear_model import LogisticRegression\n",
        "from sklearn.metrics import accuracy_score\n",
        "lr0 = LogisticRegression(random_state=0, penalty='l2',max_iter=2000,C=1)\n",
        "lr0.fit(X_train_0, y_train)\n",
        "train_pred0 = lr0.predict(X_train_0)\n",
        "val_pred0 = lr0.predict(X_val_0)\n",
        "print('Without idf')\n",
        "print('Precision on train set', round(accuracy_score(train_labels,train_pred0),4)*100,'%')\n",
        "print('Precision on val set', round(accuracy_score(val_labels,val_pred0),4)*100,'%')\n"
      ],
      "execution_count": 41,
      "outputs": [
        {
          "output_type": "stream",
          "text": [
            "Without idf\n",
            "Precision on train set 42.86 %\n",
            "Precision on val set 39.06 %\n"
          ],
          "name": "stdout"
        }
      ]
    },
    {
      "cell_type": "code",
      "metadata": {
        "id": "yelkIFx2ejQa",
        "colab_type": "code",
        "outputId": "fbc3b03a-65a0-4d93-80e1-c81e803fa1aa",
        "colab": {
          "base_uri": "https://localhost:8080/",
          "height": 34
        }
      },
      "source": [
        "# 4 - Produce 2210 predictions for the test set (in the same order). One line = one prediction (=0,1,2,3,4).\n",
        "#     Attach the output file \"logreg_bov_y_test_sst.txt\" to your deliverable.\n",
        "#     You will be evaluated on the results of the test set.\n",
        "\n",
        "# TYPE CODE HERE\n",
        "test_pred = lr.predict(X_test)\n",
        "np.savetxt('logreg_bov_y_test_sst.txt', test_pred .astype(int), delimiter=',') \n",
        "print('Number of predictions = ', test_pred.shape[0])"
      ],
      "execution_count": 16,
      "outputs": [
        {
          "output_type": "stream",
          "text": [
            "Number of predictions =  2210\n"
          ],
          "name": "stdout"
        }
      ]
    },
    {
      "cell_type": "code",
      "metadata": {
        "id": "ewS1GuDJejQd",
        "colab_type": "code",
        "outputId": "9f8f9014-84b6-4e16-e9ba-b677ebeef836",
        "colab": {
          "base_uri": "https://localhost:8080/",
          "height": 1000
        }
      },
      "source": [
        "# BONUS!\n",
        "# 5 - Try to improve performance with another classifier\n",
        "#     Attach the output file \"XXX_bov_y_test_sst.txt\" to your deliverable (where XXX = the name of the classifier)\n",
        "\n",
        "# TYPE CODE HERE\n",
        "\n",
        "### Here we used lightgbm\n",
        "import lightgbm as lgb\n",
        "from lightgbm import LGBMClassifier\n",
        "\n",
        "lgbm = LGBMClassifier(max_depth=3,n_estimators=500,reg_lambda=1)\n",
        "\n",
        "lgbm.fit(X_train, y_train, early_stopping_rounds=30,eval_set=[(X_val, y_val)])\n",
        "train_pred = lgbm.predict(X_train)\n",
        "val_pred = lgbm.predict(X_val)\n",
        "\n",
        "print('Precision on train set', round(accuracy_score(train_labels,train_pred),4)*100,'%')\n",
        "print('Precision on val set', round(accuracy_score(val_labels,val_pred),4)*100,'%')\n"
      ],
      "execution_count": 17,
      "outputs": [
        {
          "output_type": "stream",
          "text": [
            "[1]\tvalid_0's multi_logloss: 1.56375\n",
            "Training until validation scores don't improve for 30 rounds.\n",
            "[2]\tvalid_0's multi_logloss: 1.55536\n",
            "[3]\tvalid_0's multi_logloss: 1.54748\n",
            "[4]\tvalid_0's multi_logloss: 1.54141\n",
            "[5]\tvalid_0's multi_logloss: 1.53578\n",
            "[6]\tvalid_0's multi_logloss: 1.52998\n",
            "[7]\tvalid_0's multi_logloss: 1.52431\n",
            "[8]\tvalid_0's multi_logloss: 1.51899\n",
            "[9]\tvalid_0's multi_logloss: 1.51392\n",
            "[10]\tvalid_0's multi_logloss: 1.50961\n",
            "[11]\tvalid_0's multi_logloss: 1.50551\n",
            "[12]\tvalid_0's multi_logloss: 1.50151\n",
            "[13]\tvalid_0's multi_logloss: 1.49782\n",
            "[14]\tvalid_0's multi_logloss: 1.49423\n",
            "[15]\tvalid_0's multi_logloss: 1.49076\n",
            "[16]\tvalid_0's multi_logloss: 1.48759\n",
            "[17]\tvalid_0's multi_logloss: 1.4838\n",
            "[18]\tvalid_0's multi_logloss: 1.4799\n",
            "[19]\tvalid_0's multi_logloss: 1.4772\n",
            "[20]\tvalid_0's multi_logloss: 1.47458\n",
            "[21]\tvalid_0's multi_logloss: 1.47193\n",
            "[22]\tvalid_0's multi_logloss: 1.46947\n",
            "[23]\tvalid_0's multi_logloss: 1.46715\n",
            "[24]\tvalid_0's multi_logloss: 1.46565\n",
            "[25]\tvalid_0's multi_logloss: 1.46341\n",
            "[26]\tvalid_0's multi_logloss: 1.4612\n",
            "[27]\tvalid_0's multi_logloss: 1.45833\n",
            "[28]\tvalid_0's multi_logloss: 1.45604\n",
            "[29]\tvalid_0's multi_logloss: 1.4528\n",
            "[30]\tvalid_0's multi_logloss: 1.45155\n",
            "[31]\tvalid_0's multi_logloss: 1.44867\n",
            "[32]\tvalid_0's multi_logloss: 1.44684\n",
            "[33]\tvalid_0's multi_logloss: 1.44498\n",
            "[34]\tvalid_0's multi_logloss: 1.44342\n",
            "[35]\tvalid_0's multi_logloss: 1.44153\n",
            "[36]\tvalid_0's multi_logloss: 1.44016\n",
            "[37]\tvalid_0's multi_logloss: 1.43826\n",
            "[38]\tvalid_0's multi_logloss: 1.43709\n",
            "[39]\tvalid_0's multi_logloss: 1.43621\n",
            "[40]\tvalid_0's multi_logloss: 1.43486\n",
            "[41]\tvalid_0's multi_logloss: 1.43387\n",
            "[42]\tvalid_0's multi_logloss: 1.4327\n",
            "[43]\tvalid_0's multi_logloss: 1.43178\n",
            "[44]\tvalid_0's multi_logloss: 1.43036\n",
            "[45]\tvalid_0's multi_logloss: 1.42862\n",
            "[46]\tvalid_0's multi_logloss: 1.42746\n",
            "[47]\tvalid_0's multi_logloss: 1.42645\n",
            "[48]\tvalid_0's multi_logloss: 1.42507\n",
            "[49]\tvalid_0's multi_logloss: 1.42379\n",
            "[50]\tvalid_0's multi_logloss: 1.42239\n",
            "[51]\tvalid_0's multi_logloss: 1.42134\n",
            "[52]\tvalid_0's multi_logloss: 1.41979\n",
            "[53]\tvalid_0's multi_logloss: 1.41851\n",
            "[54]\tvalid_0's multi_logloss: 1.4173\n",
            "[55]\tvalid_0's multi_logloss: 1.41654\n",
            "[56]\tvalid_0's multi_logloss: 1.4161\n",
            "[57]\tvalid_0's multi_logloss: 1.41497\n",
            "[58]\tvalid_0's multi_logloss: 1.41384\n",
            "[59]\tvalid_0's multi_logloss: 1.41324\n",
            "[60]\tvalid_0's multi_logloss: 1.41276\n",
            "[61]\tvalid_0's multi_logloss: 1.41186\n",
            "[62]\tvalid_0's multi_logloss: 1.41077\n",
            "[63]\tvalid_0's multi_logloss: 1.40915\n",
            "[64]\tvalid_0's multi_logloss: 1.40818\n",
            "[65]\tvalid_0's multi_logloss: 1.40707\n",
            "[66]\tvalid_0's multi_logloss: 1.40662\n",
            "[67]\tvalid_0's multi_logloss: 1.4058\n",
            "[68]\tvalid_0's multi_logloss: 1.40528\n",
            "[69]\tvalid_0's multi_logloss: 1.40477\n",
            "[70]\tvalid_0's multi_logloss: 1.40409\n",
            "[71]\tvalid_0's multi_logloss: 1.40355\n",
            "[72]\tvalid_0's multi_logloss: 1.40285\n",
            "[73]\tvalid_0's multi_logloss: 1.4017\n",
            "[74]\tvalid_0's multi_logloss: 1.40123\n",
            "[75]\tvalid_0's multi_logloss: 1.40048\n",
            "[76]\tvalid_0's multi_logloss: 1.39945\n",
            "[77]\tvalid_0's multi_logloss: 1.3986\n",
            "[78]\tvalid_0's multi_logloss: 1.39817\n",
            "[79]\tvalid_0's multi_logloss: 1.39814\n",
            "[80]\tvalid_0's multi_logloss: 1.39784\n",
            "[81]\tvalid_0's multi_logloss: 1.39764\n",
            "[82]\tvalid_0's multi_logloss: 1.39709\n",
            "[83]\tvalid_0's multi_logloss: 1.39701\n",
            "[84]\tvalid_0's multi_logloss: 1.39647\n",
            "[85]\tvalid_0's multi_logloss: 1.39622\n",
            "[86]\tvalid_0's multi_logloss: 1.3964\n",
            "[87]\tvalid_0's multi_logloss: 1.39601\n",
            "[88]\tvalid_0's multi_logloss: 1.39608\n",
            "[89]\tvalid_0's multi_logloss: 1.39574\n",
            "[90]\tvalid_0's multi_logloss: 1.39544\n",
            "[91]\tvalid_0's multi_logloss: 1.3954\n",
            "[92]\tvalid_0's multi_logloss: 1.39488\n",
            "[93]\tvalid_0's multi_logloss: 1.3946\n",
            "[94]\tvalid_0's multi_logloss: 1.3937\n",
            "[95]\tvalid_0's multi_logloss: 1.39357\n",
            "[96]\tvalid_0's multi_logloss: 1.39348\n",
            "[97]\tvalid_0's multi_logloss: 1.3932\n",
            "[98]\tvalid_0's multi_logloss: 1.39311\n",
            "[99]\tvalid_0's multi_logloss: 1.39309\n",
            "[100]\tvalid_0's multi_logloss: 1.39326\n",
            "[101]\tvalid_0's multi_logloss: 1.39321\n",
            "[102]\tvalid_0's multi_logloss: 1.39259\n",
            "[103]\tvalid_0's multi_logloss: 1.39211\n",
            "[104]\tvalid_0's multi_logloss: 1.39163\n",
            "[105]\tvalid_0's multi_logloss: 1.39164\n",
            "[106]\tvalid_0's multi_logloss: 1.39154\n",
            "[107]\tvalid_0's multi_logloss: 1.39076\n",
            "[108]\tvalid_0's multi_logloss: 1.39052\n",
            "[109]\tvalid_0's multi_logloss: 1.38989\n",
            "[110]\tvalid_0's multi_logloss: 1.38936\n",
            "[111]\tvalid_0's multi_logloss: 1.38881\n",
            "[112]\tvalid_0's multi_logloss: 1.38854\n",
            "[113]\tvalid_0's multi_logloss: 1.38786\n",
            "[114]\tvalid_0's multi_logloss: 1.38739\n",
            "[115]\tvalid_0's multi_logloss: 1.38658\n",
            "[116]\tvalid_0's multi_logloss: 1.38615\n",
            "[117]\tvalid_0's multi_logloss: 1.38593\n",
            "[118]\tvalid_0's multi_logloss: 1.38645\n",
            "[119]\tvalid_0's multi_logloss: 1.38626\n",
            "[120]\tvalid_0's multi_logloss: 1.38579\n",
            "[121]\tvalid_0's multi_logloss: 1.38571\n",
            "[122]\tvalid_0's multi_logloss: 1.38544\n",
            "[123]\tvalid_0's multi_logloss: 1.38511\n",
            "[124]\tvalid_0's multi_logloss: 1.38489\n",
            "[125]\tvalid_0's multi_logloss: 1.38476\n",
            "[126]\tvalid_0's multi_logloss: 1.38456\n",
            "[127]\tvalid_0's multi_logloss: 1.38467\n",
            "[128]\tvalid_0's multi_logloss: 1.38436\n",
            "[129]\tvalid_0's multi_logloss: 1.38421\n",
            "[130]\tvalid_0's multi_logloss: 1.38439\n",
            "[131]\tvalid_0's multi_logloss: 1.38432\n",
            "[132]\tvalid_0's multi_logloss: 1.3841\n",
            "[133]\tvalid_0's multi_logloss: 1.38382\n",
            "[134]\tvalid_0's multi_logloss: 1.38353\n",
            "[135]\tvalid_0's multi_logloss: 1.38317\n",
            "[136]\tvalid_0's multi_logloss: 1.38302\n",
            "[137]\tvalid_0's multi_logloss: 1.38285\n",
            "[138]\tvalid_0's multi_logloss: 1.3826\n",
            "[139]\tvalid_0's multi_logloss: 1.38227\n",
            "[140]\tvalid_0's multi_logloss: 1.38261\n",
            "[141]\tvalid_0's multi_logloss: 1.38236\n",
            "[142]\tvalid_0's multi_logloss: 1.38202\n",
            "[143]\tvalid_0's multi_logloss: 1.38237\n",
            "[144]\tvalid_0's multi_logloss: 1.38212\n",
            "[145]\tvalid_0's multi_logloss: 1.38214\n",
            "[146]\tvalid_0's multi_logloss: 1.38194\n",
            "[147]\tvalid_0's multi_logloss: 1.38214\n",
            "[148]\tvalid_0's multi_logloss: 1.38226\n",
            "[149]\tvalid_0's multi_logloss: 1.38176\n",
            "[150]\tvalid_0's multi_logloss: 1.38134\n",
            "[151]\tvalid_0's multi_logloss: 1.38077\n",
            "[152]\tvalid_0's multi_logloss: 1.38081\n",
            "[153]\tvalid_0's multi_logloss: 1.3806\n",
            "[154]\tvalid_0's multi_logloss: 1.37996\n",
            "[155]\tvalid_0's multi_logloss: 1.37942\n",
            "[156]\tvalid_0's multi_logloss: 1.37923\n",
            "[157]\tvalid_0's multi_logloss: 1.37886\n",
            "[158]\tvalid_0's multi_logloss: 1.37865\n",
            "[159]\tvalid_0's multi_logloss: 1.37792\n",
            "[160]\tvalid_0's multi_logloss: 1.37756\n",
            "[161]\tvalid_0's multi_logloss: 1.37773\n",
            "[162]\tvalid_0's multi_logloss: 1.3778\n",
            "[163]\tvalid_0's multi_logloss: 1.37765\n",
            "[164]\tvalid_0's multi_logloss: 1.37779\n",
            "[165]\tvalid_0's multi_logloss: 1.37794\n",
            "[166]\tvalid_0's multi_logloss: 1.37774\n",
            "[167]\tvalid_0's multi_logloss: 1.37736\n",
            "[168]\tvalid_0's multi_logloss: 1.37736\n",
            "[169]\tvalid_0's multi_logloss: 1.37722\n",
            "[170]\tvalid_0's multi_logloss: 1.37697\n",
            "[171]\tvalid_0's multi_logloss: 1.37723\n",
            "[172]\tvalid_0's multi_logloss: 1.37732\n",
            "[173]\tvalid_0's multi_logloss: 1.37744\n",
            "[174]\tvalid_0's multi_logloss: 1.37721\n",
            "[175]\tvalid_0's multi_logloss: 1.37689\n",
            "[176]\tvalid_0's multi_logloss: 1.37646\n",
            "[177]\tvalid_0's multi_logloss: 1.37656\n",
            "[178]\tvalid_0's multi_logloss: 1.3766\n",
            "[179]\tvalid_0's multi_logloss: 1.37663\n",
            "[180]\tvalid_0's multi_logloss: 1.37651\n",
            "[181]\tvalid_0's multi_logloss: 1.3762\n",
            "[182]\tvalid_0's multi_logloss: 1.37634\n",
            "[183]\tvalid_0's multi_logloss: 1.37631\n",
            "[184]\tvalid_0's multi_logloss: 1.37604\n",
            "[185]\tvalid_0's multi_logloss: 1.37599\n",
            "[186]\tvalid_0's multi_logloss: 1.3764\n",
            "[187]\tvalid_0's multi_logloss: 1.3764\n",
            "[188]\tvalid_0's multi_logloss: 1.37646\n",
            "[189]\tvalid_0's multi_logloss: 1.37616\n",
            "[190]\tvalid_0's multi_logloss: 1.37632\n",
            "[191]\tvalid_0's multi_logloss: 1.37665\n",
            "[192]\tvalid_0's multi_logloss: 1.37663\n",
            "[193]\tvalid_0's multi_logloss: 1.3764\n",
            "[194]\tvalid_0's multi_logloss: 1.37631\n",
            "[195]\tvalid_0's multi_logloss: 1.37583\n",
            "[196]\tvalid_0's multi_logloss: 1.37581\n",
            "[197]\tvalid_0's multi_logloss: 1.37654\n",
            "[198]\tvalid_0's multi_logloss: 1.37694\n",
            "[199]\tvalid_0's multi_logloss: 1.37729\n",
            "[200]\tvalid_0's multi_logloss: 1.37737\n",
            "[201]\tvalid_0's multi_logloss: 1.37728\n",
            "[202]\tvalid_0's multi_logloss: 1.37771\n",
            "[203]\tvalid_0's multi_logloss: 1.37763\n",
            "[204]\tvalid_0's multi_logloss: 1.37739\n",
            "[205]\tvalid_0's multi_logloss: 1.37755\n",
            "[206]\tvalid_0's multi_logloss: 1.37746\n",
            "[207]\tvalid_0's multi_logloss: 1.37715\n",
            "[208]\tvalid_0's multi_logloss: 1.37741\n",
            "[209]\tvalid_0's multi_logloss: 1.37761\n",
            "[210]\tvalid_0's multi_logloss: 1.37723\n",
            "[211]\tvalid_0's multi_logloss: 1.3768\n",
            "[212]\tvalid_0's multi_logloss: 1.37678\n",
            "[213]\tvalid_0's multi_logloss: 1.37738\n",
            "[214]\tvalid_0's multi_logloss: 1.37707\n",
            "[215]\tvalid_0's multi_logloss: 1.37705\n",
            "[216]\tvalid_0's multi_logloss: 1.37723\n",
            "[217]\tvalid_0's multi_logloss: 1.37707\n",
            "[218]\tvalid_0's multi_logloss: 1.37737\n",
            "[219]\tvalid_0's multi_logloss: 1.37748\n",
            "[220]\tvalid_0's multi_logloss: 1.37743\n",
            "[221]\tvalid_0's multi_logloss: 1.37737\n",
            "[222]\tvalid_0's multi_logloss: 1.37746\n",
            "[223]\tvalid_0's multi_logloss: 1.37721\n",
            "[224]\tvalid_0's multi_logloss: 1.37734\n",
            "[225]\tvalid_0's multi_logloss: 1.37697\n",
            "[226]\tvalid_0's multi_logloss: 1.37724\n",
            "Early stopping, best iteration is:\n",
            "[196]\tvalid_0's multi_logloss: 1.37581\n",
            "Precision on train set 71.73 %\n",
            "Precision on val set 39.42 %\n"
          ],
          "name": "stdout"
        }
      ]
    },
    {
      "cell_type": "code",
      "metadata": {
        "id": "j693E4vuBJ9e",
        "colab_type": "code",
        "colab": {
          "base_uri": "https://localhost:8080/",
          "height": 1000
        },
        "outputId": "e08b7f90-da7b-4566-c01f-0057964fd217"
      },
      "source": [
        "## Without idf-weighted-average\n",
        "import lightgbm as lgb\n",
        "from lightgbm import LGBMClassifier\n",
        "\n",
        "lgbm0 = LGBMClassifier(max_depth=3,n_estimators=500,reg_lambda=1)\n",
        "\n",
        "lgbm0.fit(X_train_0, y_train, early_stopping_rounds=30,eval_set=[(X_val_0, y_val)])\n",
        "train_pred0 = lgbm0.predict(X_train_0)\n",
        "val_pred0 = lgbm0.predict(X_val_0)\n",
        "\n",
        "print('Precision on train set', round(accuracy_score(train_labels,train_pred0),4)*100,'%')\n",
        "print('Precision on val set', round(accuracy_score(val_labels,val_pred0),4)*100,'%')"
      ],
      "execution_count": 43,
      "outputs": [
        {
          "output_type": "stream",
          "text": [
            "[1]\tvalid_0's multi_logloss: 1.5658\n",
            "Training until validation scores don't improve for 30 rounds.\n",
            "[2]\tvalid_0's multi_logloss: 1.55954\n",
            "[3]\tvalid_0's multi_logloss: 1.55357\n",
            "[4]\tvalid_0's multi_logloss: 1.54716\n",
            "[5]\tvalid_0's multi_logloss: 1.543\n",
            "[6]\tvalid_0's multi_logloss: 1.53871\n",
            "[7]\tvalid_0's multi_logloss: 1.5346\n",
            "[8]\tvalid_0's multi_logloss: 1.53028\n",
            "[9]\tvalid_0's multi_logloss: 1.52653\n",
            "[10]\tvalid_0's multi_logloss: 1.52226\n",
            "[11]\tvalid_0's multi_logloss: 1.51989\n",
            "[12]\tvalid_0's multi_logloss: 1.51653\n",
            "[13]\tvalid_0's multi_logloss: 1.51261\n",
            "[14]\tvalid_0's multi_logloss: 1.51025\n",
            "[15]\tvalid_0's multi_logloss: 1.50775\n",
            "[16]\tvalid_0's multi_logloss: 1.50557\n",
            "[17]\tvalid_0's multi_logloss: 1.50307\n",
            "[18]\tvalid_0's multi_logloss: 1.50063\n",
            "[19]\tvalid_0's multi_logloss: 1.49831\n",
            "[20]\tvalid_0's multi_logloss: 1.49593\n",
            "[21]\tvalid_0's multi_logloss: 1.49378\n",
            "[22]\tvalid_0's multi_logloss: 1.49101\n",
            "[23]\tvalid_0's multi_logloss: 1.48927\n",
            "[24]\tvalid_0's multi_logloss: 1.48786\n",
            "[25]\tvalid_0's multi_logloss: 1.48628\n",
            "[26]\tvalid_0's multi_logloss: 1.48454\n",
            "[27]\tvalid_0's multi_logloss: 1.48259\n",
            "[28]\tvalid_0's multi_logloss: 1.48106\n",
            "[29]\tvalid_0's multi_logloss: 1.47933\n",
            "[30]\tvalid_0's multi_logloss: 1.47766\n",
            "[31]\tvalid_0's multi_logloss: 1.47601\n",
            "[32]\tvalid_0's multi_logloss: 1.47451\n",
            "[33]\tvalid_0's multi_logloss: 1.47298\n",
            "[34]\tvalid_0's multi_logloss: 1.47074\n",
            "[35]\tvalid_0's multi_logloss: 1.46925\n",
            "[36]\tvalid_0's multi_logloss: 1.46775\n",
            "[37]\tvalid_0's multi_logloss: 1.46611\n",
            "[38]\tvalid_0's multi_logloss: 1.46467\n",
            "[39]\tvalid_0's multi_logloss: 1.4641\n",
            "[40]\tvalid_0's multi_logloss: 1.46305\n",
            "[41]\tvalid_0's multi_logloss: 1.46167\n",
            "[42]\tvalid_0's multi_logloss: 1.46037\n",
            "[43]\tvalid_0's multi_logloss: 1.45947\n",
            "[44]\tvalid_0's multi_logloss: 1.45817\n",
            "[45]\tvalid_0's multi_logloss: 1.45707\n",
            "[46]\tvalid_0's multi_logloss: 1.45619\n",
            "[47]\tvalid_0's multi_logloss: 1.45509\n",
            "[48]\tvalid_0's multi_logloss: 1.45448\n",
            "[49]\tvalid_0's multi_logloss: 1.4538\n",
            "[50]\tvalid_0's multi_logloss: 1.45297\n",
            "[51]\tvalid_0's multi_logloss: 1.45202\n",
            "[52]\tvalid_0's multi_logloss: 1.45124\n",
            "[53]\tvalid_0's multi_logloss: 1.45079\n",
            "[54]\tvalid_0's multi_logloss: 1.45038\n",
            "[55]\tvalid_0's multi_logloss: 1.44935\n",
            "[56]\tvalid_0's multi_logloss: 1.44837\n",
            "[57]\tvalid_0's multi_logloss: 1.44807\n",
            "[58]\tvalid_0's multi_logloss: 1.44754\n",
            "[59]\tvalid_0's multi_logloss: 1.44686\n",
            "[60]\tvalid_0's multi_logloss: 1.44636\n",
            "[61]\tvalid_0's multi_logloss: 1.44587\n",
            "[62]\tvalid_0's multi_logloss: 1.44514\n",
            "[63]\tvalid_0's multi_logloss: 1.44438\n",
            "[64]\tvalid_0's multi_logloss: 1.44358\n",
            "[65]\tvalid_0's multi_logloss: 1.44329\n",
            "[66]\tvalid_0's multi_logloss: 1.44219\n",
            "[67]\tvalid_0's multi_logloss: 1.44156\n",
            "[68]\tvalid_0's multi_logloss: 1.44091\n",
            "[69]\tvalid_0's multi_logloss: 1.44036\n",
            "[70]\tvalid_0's multi_logloss: 1.44004\n",
            "[71]\tvalid_0's multi_logloss: 1.43916\n",
            "[72]\tvalid_0's multi_logloss: 1.43883\n",
            "[73]\tvalid_0's multi_logloss: 1.43879\n",
            "[74]\tvalid_0's multi_logloss: 1.4385\n",
            "[75]\tvalid_0's multi_logloss: 1.43781\n",
            "[76]\tvalid_0's multi_logloss: 1.43735\n",
            "[77]\tvalid_0's multi_logloss: 1.43628\n",
            "[78]\tvalid_0's multi_logloss: 1.43586\n",
            "[79]\tvalid_0's multi_logloss: 1.43558\n",
            "[80]\tvalid_0's multi_logloss: 1.43482\n",
            "[81]\tvalid_0's multi_logloss: 1.43469\n",
            "[82]\tvalid_0's multi_logloss: 1.43356\n",
            "[83]\tvalid_0's multi_logloss: 1.43304\n",
            "[84]\tvalid_0's multi_logloss: 1.43239\n",
            "[85]\tvalid_0's multi_logloss: 1.43136\n",
            "[86]\tvalid_0's multi_logloss: 1.43093\n",
            "[87]\tvalid_0's multi_logloss: 1.43052\n",
            "[88]\tvalid_0's multi_logloss: 1.42978\n",
            "[89]\tvalid_0's multi_logloss: 1.4291\n",
            "[90]\tvalid_0's multi_logloss: 1.42892\n",
            "[91]\tvalid_0's multi_logloss: 1.42829\n",
            "[92]\tvalid_0's multi_logloss: 1.4278\n",
            "[93]\tvalid_0's multi_logloss: 1.42793\n",
            "[94]\tvalid_0's multi_logloss: 1.42764\n",
            "[95]\tvalid_0's multi_logloss: 1.42738\n",
            "[96]\tvalid_0's multi_logloss: 1.4268\n",
            "[97]\tvalid_0's multi_logloss: 1.42656\n",
            "[98]\tvalid_0's multi_logloss: 1.42651\n",
            "[99]\tvalid_0's multi_logloss: 1.42645\n",
            "[100]\tvalid_0's multi_logloss: 1.42655\n",
            "[101]\tvalid_0's multi_logloss: 1.42654\n",
            "[102]\tvalid_0's multi_logloss: 1.42611\n",
            "[103]\tvalid_0's multi_logloss: 1.42529\n",
            "[104]\tvalid_0's multi_logloss: 1.42503\n",
            "[105]\tvalid_0's multi_logloss: 1.42474\n",
            "[106]\tvalid_0's multi_logloss: 1.4245\n",
            "[107]\tvalid_0's multi_logloss: 1.42436\n",
            "[108]\tvalid_0's multi_logloss: 1.42385\n",
            "[109]\tvalid_0's multi_logloss: 1.42354\n",
            "[110]\tvalid_0's multi_logloss: 1.42278\n",
            "[111]\tvalid_0's multi_logloss: 1.42253\n",
            "[112]\tvalid_0's multi_logloss: 1.42296\n",
            "[113]\tvalid_0's multi_logloss: 1.42282\n",
            "[114]\tvalid_0's multi_logloss: 1.42287\n",
            "[115]\tvalid_0's multi_logloss: 1.42244\n",
            "[116]\tvalid_0's multi_logloss: 1.42158\n",
            "[117]\tvalid_0's multi_logloss: 1.42105\n",
            "[118]\tvalid_0's multi_logloss: 1.42027\n",
            "[119]\tvalid_0's multi_logloss: 1.42006\n",
            "[120]\tvalid_0's multi_logloss: 1.41974\n",
            "[121]\tvalid_0's multi_logloss: 1.41979\n",
            "[122]\tvalid_0's multi_logloss: 1.41984\n",
            "[123]\tvalid_0's multi_logloss: 1.41914\n",
            "[124]\tvalid_0's multi_logloss: 1.41938\n",
            "[125]\tvalid_0's multi_logloss: 1.41907\n",
            "[126]\tvalid_0's multi_logloss: 1.41883\n",
            "[127]\tvalid_0's multi_logloss: 1.41853\n",
            "[128]\tvalid_0's multi_logloss: 1.41851\n",
            "[129]\tvalid_0's multi_logloss: 1.41807\n",
            "[130]\tvalid_0's multi_logloss: 1.41773\n",
            "[131]\tvalid_0's multi_logloss: 1.41767\n",
            "[132]\tvalid_0's multi_logloss: 1.41725\n",
            "[133]\tvalid_0's multi_logloss: 1.41708\n",
            "[134]\tvalid_0's multi_logloss: 1.41661\n",
            "[135]\tvalid_0's multi_logloss: 1.41647\n",
            "[136]\tvalid_0's multi_logloss: 1.41549\n",
            "[137]\tvalid_0's multi_logloss: 1.41557\n",
            "[138]\tvalid_0's multi_logloss: 1.41549\n",
            "[139]\tvalid_0's multi_logloss: 1.41469\n",
            "[140]\tvalid_0's multi_logloss: 1.4142\n",
            "[141]\tvalid_0's multi_logloss: 1.41393\n",
            "[142]\tvalid_0's multi_logloss: 1.41385\n",
            "[143]\tvalid_0's multi_logloss: 1.41376\n",
            "[144]\tvalid_0's multi_logloss: 1.41405\n",
            "[145]\tvalid_0's multi_logloss: 1.414\n",
            "[146]\tvalid_0's multi_logloss: 1.41392\n",
            "[147]\tvalid_0's multi_logloss: 1.41379\n",
            "[148]\tvalid_0's multi_logloss: 1.41353\n",
            "[149]\tvalid_0's multi_logloss: 1.41347\n",
            "[150]\tvalid_0's multi_logloss: 1.41338\n",
            "[151]\tvalid_0's multi_logloss: 1.41311\n",
            "[152]\tvalid_0's multi_logloss: 1.41339\n",
            "[153]\tvalid_0's multi_logloss: 1.41331\n",
            "[154]\tvalid_0's multi_logloss: 1.41358\n",
            "[155]\tvalid_0's multi_logloss: 1.41329\n",
            "[156]\tvalid_0's multi_logloss: 1.413\n",
            "[157]\tvalid_0's multi_logloss: 1.41279\n",
            "[158]\tvalid_0's multi_logloss: 1.41229\n",
            "[159]\tvalid_0's multi_logloss: 1.41228\n",
            "[160]\tvalid_0's multi_logloss: 1.4123\n",
            "[161]\tvalid_0's multi_logloss: 1.41157\n",
            "[162]\tvalid_0's multi_logloss: 1.41171\n",
            "[163]\tvalid_0's multi_logloss: 1.41168\n",
            "[164]\tvalid_0's multi_logloss: 1.41179\n",
            "[165]\tvalid_0's multi_logloss: 1.41172\n",
            "[166]\tvalid_0's multi_logloss: 1.41205\n",
            "[167]\tvalid_0's multi_logloss: 1.41168\n",
            "[168]\tvalid_0's multi_logloss: 1.41118\n",
            "[169]\tvalid_0's multi_logloss: 1.4114\n",
            "[170]\tvalid_0's multi_logloss: 1.41102\n",
            "[171]\tvalid_0's multi_logloss: 1.4107\n",
            "[172]\tvalid_0's multi_logloss: 1.41053\n",
            "[173]\tvalid_0's multi_logloss: 1.41033\n",
            "[174]\tvalid_0's multi_logloss: 1.41049\n",
            "[175]\tvalid_0's multi_logloss: 1.40979\n",
            "[176]\tvalid_0's multi_logloss: 1.40989\n",
            "[177]\tvalid_0's multi_logloss: 1.41022\n",
            "[178]\tvalid_0's multi_logloss: 1.40956\n",
            "[179]\tvalid_0's multi_logloss: 1.40924\n",
            "[180]\tvalid_0's multi_logloss: 1.40928\n",
            "[181]\tvalid_0's multi_logloss: 1.40918\n",
            "[182]\tvalid_0's multi_logloss: 1.40892\n",
            "[183]\tvalid_0's multi_logloss: 1.40839\n",
            "[184]\tvalid_0's multi_logloss: 1.40822\n",
            "[185]\tvalid_0's multi_logloss: 1.40839\n",
            "[186]\tvalid_0's multi_logloss: 1.40876\n",
            "[187]\tvalid_0's multi_logloss: 1.40883\n",
            "[188]\tvalid_0's multi_logloss: 1.40879\n",
            "[189]\tvalid_0's multi_logloss: 1.40878\n",
            "[190]\tvalid_0's multi_logloss: 1.40912\n",
            "[191]\tvalid_0's multi_logloss: 1.40896\n",
            "[192]\tvalid_0's multi_logloss: 1.4089\n",
            "[193]\tvalid_0's multi_logloss: 1.40884\n",
            "[194]\tvalid_0's multi_logloss: 1.40876\n",
            "[195]\tvalid_0's multi_logloss: 1.40856\n",
            "[196]\tvalid_0's multi_logloss: 1.40805\n",
            "[197]\tvalid_0's multi_logloss: 1.40808\n",
            "[198]\tvalid_0's multi_logloss: 1.40822\n",
            "[199]\tvalid_0's multi_logloss: 1.40874\n",
            "[200]\tvalid_0's multi_logloss: 1.40902\n",
            "[201]\tvalid_0's multi_logloss: 1.40878\n",
            "[202]\tvalid_0's multi_logloss: 1.40884\n",
            "[203]\tvalid_0's multi_logloss: 1.40853\n",
            "[204]\tvalid_0's multi_logloss: 1.4086\n",
            "[205]\tvalid_0's multi_logloss: 1.40828\n",
            "[206]\tvalid_0's multi_logloss: 1.40832\n",
            "[207]\tvalid_0's multi_logloss: 1.40794\n",
            "[208]\tvalid_0's multi_logloss: 1.40837\n",
            "[209]\tvalid_0's multi_logloss: 1.40781\n",
            "[210]\tvalid_0's multi_logloss: 1.40748\n",
            "[211]\tvalid_0's multi_logloss: 1.40741\n",
            "[212]\tvalid_0's multi_logloss: 1.40716\n",
            "[213]\tvalid_0's multi_logloss: 1.40693\n",
            "[214]\tvalid_0's multi_logloss: 1.40706\n",
            "[215]\tvalid_0's multi_logloss: 1.40732\n",
            "[216]\tvalid_0's multi_logloss: 1.40778\n",
            "[217]\tvalid_0's multi_logloss: 1.40806\n",
            "[218]\tvalid_0's multi_logloss: 1.40827\n",
            "[219]\tvalid_0's multi_logloss: 1.40873\n",
            "[220]\tvalid_0's multi_logloss: 1.40873\n",
            "[221]\tvalid_0's multi_logloss: 1.40877\n",
            "[222]\tvalid_0's multi_logloss: 1.40862\n",
            "[223]\tvalid_0's multi_logloss: 1.40868\n",
            "[224]\tvalid_0's multi_logloss: 1.40829\n",
            "[225]\tvalid_0's multi_logloss: 1.40787\n",
            "[226]\tvalid_0's multi_logloss: 1.40743\n",
            "[227]\tvalid_0's multi_logloss: 1.40733\n",
            "[228]\tvalid_0's multi_logloss: 1.40752\n",
            "[229]\tvalid_0's multi_logloss: 1.40758\n",
            "[230]\tvalid_0's multi_logloss: 1.40823\n",
            "[231]\tvalid_0's multi_logloss: 1.40816\n",
            "[232]\tvalid_0's multi_logloss: 1.40779\n",
            "[233]\tvalid_0's multi_logloss: 1.40791\n",
            "[234]\tvalid_0's multi_logloss: 1.40755\n",
            "[235]\tvalid_0's multi_logloss: 1.40742\n",
            "[236]\tvalid_0's multi_logloss: 1.40784\n",
            "[237]\tvalid_0's multi_logloss: 1.40793\n",
            "[238]\tvalid_0's multi_logloss: 1.40755\n",
            "[239]\tvalid_0's multi_logloss: 1.4074\n",
            "[240]\tvalid_0's multi_logloss: 1.40741\n",
            "[241]\tvalid_0's multi_logloss: 1.40773\n",
            "[242]\tvalid_0's multi_logloss: 1.40772\n",
            "[243]\tvalid_0's multi_logloss: 1.40847\n",
            "Early stopping, best iteration is:\n",
            "[213]\tvalid_0's multi_logloss: 1.40693\n",
            "Precision on train set 71.96000000000001 %\n",
            "Precision on val set 36.88 %\n"
          ],
          "name": "stdout"
        }
      ]
    },
    {
      "cell_type": "code",
      "metadata": {
        "id": "EDLDPRcL1_pM",
        "colab_type": "code",
        "colab": {
          "base_uri": "https://localhost:8080/",
          "height": 34
        },
        "outputId": "76334622-aa88-4b7e-dddf-169b756db787"
      },
      "source": [
        "test_pred = lgbm.predict(X_test)\n",
        "np.savetxt('lgb_bov_y_test_sst.txt', test_pred.astype(int), delimiter=',') \n",
        "print('Number of predictions = ', test_pred.shape[0])"
      ],
      "execution_count": 18,
      "outputs": [
        {
          "output_type": "stream",
          "text": [
            "Number of predictions =  2210\n"
          ],
          "name": "stdout"
        }
      ]
    },
    {
      "cell_type": "markdown",
      "metadata": {
        "id": "T1Jtu0o-ejQi",
        "colab_type": "text"
      },
      "source": [
        "# 4) Sentence classification with LSTMs in Keras"
      ]
    },
    {
      "cell_type": "markdown",
      "metadata": {
        "id": "uUn7PMDeejQj",
        "colab_type": "text"
      },
      "source": [
        "## 4.1 - Preprocessing"
      ]
    },
    {
      "cell_type": "code",
      "metadata": {
        "jupyter": {
          "outputs_hidden": false
        },
        "id": "3I49LXReejQk",
        "colab_type": "code",
        "outputId": "a52f446e-22d4-4ac5-cbbc-1191d71b75f8",
        "colab": {
          "base_uri": "https://localhost:8080/",
          "height": 97
        }
      },
      "source": [
        "import keras\n",
        "from keras.preprocessing import text\n",
        "from keras.utils import to_categorical\n",
        "import tensorflow as tf"
      ],
      "execution_count": 10,
      "outputs": [
        {
          "output_type": "stream",
          "text": [
            "Using TensorFlow backend.\n"
          ],
          "name": "stderr"
        },
        {
          "output_type": "display_data",
          "data": {
            "text/html": [
              "<p style=\"color: red;\">\n",
              "The default version of TensorFlow in Colab will soon switch to TensorFlow 2.x.<br>\n",
              "We recommend you <a href=\"https://www.tensorflow.org/guide/migrate\" target=\"_blank\">upgrade</a> now \n",
              "or ensure your notebook will continue to use TensorFlow 1.x via the <code>%tensorflow_version 1.x</code> magic:\n",
              "<a href=\"https://colab.research.google.com/notebooks/tensorflow_version.ipynb\" target=\"_blank\">more info</a>.</p>\n"
            ],
            "text/plain": [
              "<IPython.core.display.HTML object>"
            ]
          },
          "metadata": {
            "tags": []
          }
        }
      ]
    },
    {
      "cell_type": "code",
      "metadata": {
        "id": "kwkXbFkKVRyl",
        "colab_type": "code",
        "colab": {
          "base_uri": "https://localhost:8080/",
          "height": 102
        },
        "outputId": "0c03e50a-395d-477e-afd2-0c8a2dc5a339"
      },
      "source": [
        "train_filepath = PATH_TO_DATA / 'SST/stsa.fine.train'\n",
        "dev_filepath = PATH_TO_DATA / 'SST/stsa.fine.dev'\n",
        "test_filepath = PATH_TO_DATA / 'SST/stsa.fine.test.X'\n",
        "\n",
        "# TYPE CODE HERE\n",
        "\n",
        "def read_sentences(path, put_label=False):\n",
        "    sentences = []\n",
        "    labels = []\n",
        "\n",
        "    print('Loading sentences...')\n",
        "    file = open(os.path.join(path), \"r\")\n",
        "    for line in file:\n",
        "        sentences.append(line.split()[1:]) \n",
        "        if put_label:\n",
        "            labels.append(line.split()[0])\n",
        "    labels = [int(labels[i]) for i in range(len(labels))]\n",
        "    if put_label:\n",
        "        return sentences, labels\n",
        "    return sentences\n",
        "\n",
        "\n",
        "\n",
        "train_sst, train_labels = read_sentences(train_filepath, put_label=True)\n",
        "val_sst, val_labels = read_sentences(dev_filepath, put_label=True)\n",
        "test_sst = read_sentences(test_filepath)\n",
        "sentences_all = train_sst+val_sst+test_sst\n",
        "print(f\"train:{len(train_sst)}, val:{len(val_sst)}, test:{len(test_sst)}\")\n",
        "print('All sentences:',len(sentences_all))\n"
      ],
      "execution_count": 11,
      "outputs": [
        {
          "output_type": "stream",
          "text": [
            "Loading sentences...\n",
            "Loading sentences...\n",
            "Loading sentences...\n",
            "train:8544, val:1101, test:2210\n",
            "All sentences: 11855\n"
          ],
          "name": "stdout"
        }
      ]
    },
    {
      "cell_type": "code",
      "metadata": {
        "id": "qxdSyIaqdZje",
        "colab_type": "code",
        "colab": {
          "base_uri": "https://localhost:8080/",
          "height": 34
        },
        "outputId": "bf93cb02-b7b8-404a-df7a-8601f68d35ae"
      },
      "source": [
        "\n",
        "word2vec = Word2Vec(en_embeddings_path, vocab_size=50000)\n",
        "sentence2vec = BagOfWords(word2vec)\n",
        "idf = sentence2vec.build_idf(sentences_all)\n",
        "\n",
        "idf = {} if False else sentence2vec.build_idf(sentences_all)\n",
        "X_train = np.vstack([sentence2vec.encode(sentence, idf) for sentence in train_sst])\n",
        "y_train = np.array(train_labels)\n",
        "X_val = np.vstack([sentence2vec.encode(sentence, idf) for sentence in val_sst])\n",
        "y_val = np.array(val_labels)\n",
        "X_test = np.vstack([sentence2vec.encode(sentence, idf) for sentence in test_sst])\n"
      ],
      "execution_count": 12,
      "outputs": [
        {
          "output_type": "stream",
          "text": [
            "Loaded 50000 pretrained word vectors\n"
          ],
          "name": "stdout"
        }
      ]
    },
    {
      "cell_type": "code",
      "metadata": {
        "id": "TGoHpOm_ejQv",
        "colab_type": "code",
        "colab": {}
      },
      "source": [
        "# 1 - Using the same dataset, transform text to integers using tf.keras.preprocessing.text.one_hot function\n",
        "#     https://keras.io/preprocessing/text/\n",
        "\n",
        "\n",
        "# TYPE CODE HERE\n",
        "vocab_size =50000\n",
        "X_train_oh = [text.one_hot(' '.join(sentence), vocab_size) for sentence in train_sst]\n",
        "X_val_oh = [text.one_hot(' '.join(sentence), vocab_size) for sentence in val_sst]\n",
        "X_test_oh = [text.one_hot(' '.join(sentence), vocab_size) for sentence in test_sst]\n",
        "\n",
        "\n"
      ],
      "execution_count": 0,
      "outputs": []
    },
    {
      "cell_type": "markdown",
      "metadata": {
        "id": "Q2DHYtLIejQy",
        "colab_type": "text"
      },
      "source": [
        "**Padding input data**\n",
        "\n",
        "Models in Keras (and elsewhere) take batches of sentences of the same length as input. It is because Deep Learning framework have been designed to handle well Tensors, which are particularly suited for fast computation on the GPU.\n",
        "\n",
        "Since sentences have different sizes, we \"pad\" them. That is, we add dummy \"padding\" tokens so that they all have the same length.\n",
        "\n",
        "The input to a Keras model thus has this size : (batchsize, maxseqlen) where maxseqlen is the maximum length of a sentence in the batch."
      ]
    },
    {
      "cell_type": "code",
      "metadata": {
        "id": "qQMWWeNFejQ0",
        "colab_type": "code",
        "outputId": "666fa66f-3b13-4fa3-dadb-bb558e38759e",
        "colab": {
          "base_uri": "https://localhost:8080/",
          "height": 119
        }
      },
      "source": [
        "# 2 - Pad your sequences using tf.keras.preprocessing.sequence.pad_sequences\n",
        "#     https://keras.io/preprocessing/sequence/\n",
        "\n",
        "# TYPE CODE HERE\n",
        "from keras.preprocessing.sequence import pad_sequences\n",
        "\n",
        "max_train = max([len(X_train[i]) for i in range(len(X_train))])\n",
        "max_val = max([len(X_val[i]) for i in range(len(X_val))])\n",
        "max_test = max([len(X_test[i]) for i in range(len(X_test))])\n",
        "\n",
        "max_length = max([max_train, max_val , max_test])\n",
        "print('max lengths :', max_train)\n",
        "\n",
        "#max_length =50 \n",
        "# Do padding to get the same lengths\n",
        "X_train_pad = pad_sequences(X_train_oh, maxlen=max_length)\n",
        "X_val_pad = pad_sequences(X_val_oh, maxlen=max_length)\n",
        "X_test_pad = pad_sequences(X_test_oh,maxlen=max_length)\n",
        "\n",
        "y_train_cat = to_categorical(y_train)\n",
        "y_val_cat = to_categorical(y_val)\n",
        "\n",
        "print('train shape',np.shape(X_train_pad))\n",
        "print('val shape',np.shape(X_val_pad))\n",
        "print('test shape',np.shape(X_test_pad))\n",
        "\n",
        "print('train label shape',np.shape(y_train_cat))\n",
        "print('val label shape',np.shape(y_val_cat))"
      ],
      "execution_count": 14,
      "outputs": [
        {
          "output_type": "stream",
          "text": [
            "max lengths : 300\n",
            "train shape (8544, 300)\n",
            "val shape (1101, 300)\n",
            "test shape (2210, 300)\n",
            "train label shape (8544, 5)\n",
            "val label shape (1101, 5)\n"
          ],
          "name": "stdout"
        }
      ]
    },
    {
      "cell_type": "markdown",
      "metadata": {
        "id": "SM8dEP7VejQ3",
        "colab_type": "text"
      },
      "source": [
        "## 4.2 - Design and train your model"
      ]
    },
    {
      "cell_type": "code",
      "metadata": {
        "id": "fbzhSYYoejQ4",
        "colab_type": "code",
        "outputId": "743e3adf-703a-4f4c-b2fc-a36ed46b2567",
        "colab": {
          "base_uri": "https://localhost:8080/",
          "height": 139
        }
      },
      "source": [
        "# 3 - Design your encoder + classifier using tensorflow.keras.layers\n",
        "#     In Keras, Torch and other deep learning framework, we create a \"container\" which is the Sequential() module.\n",
        "#     Then we add components to this container : the lookup-table, the LSTM, the classifier etc.\n",
        "#     All of these components are contained in the Sequential() and are trained together.\n",
        "#     Note that the embedding layer is initialized randomly and does not take advantage of pre-trained word embeddings.\n",
        "\n",
        "\n",
        "# ADAPT CODE BELOW\n",
        "\n",
        "from tensorflow.keras.models import Sequential\n",
        "from tensorflow.keras.layers import Embedding, LSTM, Dense, Activation, Dropout, Conv1D, MaxPooling1D\n",
        "from tensorflow.keras.layers import Bidirectional \n",
        "\n",
        "import os\n",
        "import pdb\n",
        "\n",
        "embed_dim  = 32  # word embedding dimension\n",
        "nhid       = 64  # number of hidden units in the LSTM\n",
        "vocab_size = 50000  # size of the vocabulary\n",
        "n_classes  = 5\n",
        "#Initialize the embedding weights\n",
        "\n",
        "\n",
        "\n",
        "\n",
        "\n",
        "model = Sequential()\n",
        "model.add(Embedding(vocab_size, embed_dim))\n",
        "model.add(LSTM(nhid, dropout=0.4, recurrent_dropout=0.4))\n",
        "model.add(Dense(n_classes, activation='sigmoid'))"
      ],
      "execution_count": 15,
      "outputs": [
        {
          "output_type": "stream",
          "text": [
            "WARNING:tensorflow:From /usr/local/lib/python3.6/dist-packages/tensorflow_core/python/keras/initializers.py:119: calling RandomUniform.__init__ (from tensorflow.python.ops.init_ops) with dtype is deprecated and will be removed in a future version.\n",
            "Instructions for updating:\n",
            "Call initializer instance with the dtype argument instead of passing it to the constructor\n",
            "WARNING:tensorflow:From /usr/local/lib/python3.6/dist-packages/tensorflow_core/python/ops/resource_variable_ops.py:1630: calling BaseResourceVariable.__init__ (from tensorflow.python.ops.resource_variable_ops) with constraint is deprecated and will be removed in a future version.\n",
            "Instructions for updating:\n",
            "If using Keras pass *_constraint arguments to layers.\n"
          ],
          "name": "stdout"
        }
      ]
    },
    {
      "cell_type": "code",
      "metadata": {
        "jupyter": {
          "outputs_hidden": false
        },
        "id": "uZVXUj5aejQ7",
        "colab_type": "code",
        "outputId": "018e6d7f-010c-4e3c-d4b8-d0dcd5856503",
        "colab": {
          "base_uri": "https://localhost:8080/",
          "height": 272
        }
      },
      "source": [
        "# 4 - Define your loss/optimizer/metrics\n",
        "from tensorflow.keras.callbacks import ModelCheckpoint,ReduceLROnPlateau\n",
        "# MODIFY CODE BELOW\n",
        "\n",
        "loss_classif     =  'categorical_crossentropy' # find the right loss for multi-class classification\n",
        "optimizer        =  'rmsprop' # find the right optimizer\n",
        "metrics_classif  =  ['accuracy']\n",
        "# Observe how easy (but blackboxed) this is in Keras\n",
        "model.compile(loss=loss_classif,\n",
        "              optimizer=optimizer,\n",
        "              metrics=metrics_classif)\n",
        "print(model.summary())"
      ],
      "execution_count": 16,
      "outputs": [
        {
          "output_type": "stream",
          "text": [
            "Model: \"sequential\"\n",
            "_________________________________________________________________\n",
            "Layer (type)                 Output Shape              Param #   \n",
            "=================================================================\n",
            "embedding (Embedding)        (None, None, 32)          1600000   \n",
            "_________________________________________________________________\n",
            "lstm (LSTM)                  (None, 64)                24832     \n",
            "_________________________________________________________________\n",
            "dense (Dense)                (None, 5)                 325       \n",
            "=================================================================\n",
            "Total params: 1,625,157\n",
            "Trainable params: 1,625,157\n",
            "Non-trainable params: 0\n",
            "_________________________________________________________________\n",
            "None\n"
          ],
          "name": "stdout"
        }
      ]
    },
    {
      "cell_type": "code",
      "metadata": {
        "scrolled": true,
        "id": "ggBa61vpejQ9",
        "colab_type": "code",
        "outputId": "9cd61bf3-38ec-48e6-a961-948768936b05",
        "colab": {
          "base_uri": "https://localhost:8080/",
          "height": 1000
        }
      },
      "source": [
        "# 5 - Train your model and find the best hyperparameters for your dev set\n",
        "#     you will be evaluated on the quality of your predictions on the test set\n",
        "#     Keras expects y_train and y_dev to be one-hot encodings of the labels, i.e. with shape=(n_samples, 5)\n",
        "\n",
        "\n",
        "# ADAPT CODE BELOW\n",
        "bs =64\n",
        "n_epochs = 15\n",
        "import matplotlib.pyplot as plt\n",
        "%matplotlib inline\n",
        "\n",
        "\n",
        "mcp = ModelCheckpoint('.mdl_lstm.hdf5', monitor=\"val_acc\", mode='max',save_best_only=True, save_weights_only=False)\n",
        "lr_scheduler = ReduceLROnPlateau(monitor='val_loss', factor=0.1, patience=7, verbose=1, epsilon=1e-4, mode='min')\n",
        "\n",
        "history = model.fit(X_train_pad, y_train_cat, batch_size=bs, nb_epoch=n_epochs, validation_data=(X_val_pad, y_val_cat), callbacks = [mcp,lr_scheduler])\n",
        "\n",
        "print(history.history.keys())\n",
        "# summarize history for accuracy\n",
        "plt.plot(history.history['acc'])\n",
        "plt.plot(history.history['val_acc'])\n",
        "plt.title('model accuracy')\n",
        "plt.ylabel('accuracy')\n",
        "plt.xlabel('epoch')\n",
        "plt.legend(['train', 'val'], loc='upper left')\n",
        "\n",
        "plt.show()\n",
        "# summarize history for loss\n",
        "plt.plot(history.history['loss'])\n",
        "plt.plot(history.history['val_loss'])\n",
        "plt.title('model loss')\n",
        "plt.ylabel('loss')\n",
        "plt.xlabel('epoch')\n",
        "plt.legend(['train', 'val'], loc='upper left')\n",
        "plt.show()"
      ],
      "execution_count": 17,
      "outputs": [
        {
          "output_type": "stream",
          "text": [
            "WARNING:tensorflow:`epsilon` argument is deprecated and will be removed, use `min_delta` instead.\n",
            "WARNING:tensorflow:The `nb_epoch` argument in `fit` has been renamed `epochs`.\n",
            "WARNING:tensorflow:From /usr/local/lib/python3.6/dist-packages/tensorflow_core/python/ops/math_grad.py:1424: where (from tensorflow.python.ops.array_ops) is deprecated and will be removed in a future version.\n",
            "Instructions for updating:\n",
            "Use tf.where in 2.0, which has the same broadcast rule as np.where\n",
            "Train on 8544 samples, validate on 1101 samples\n",
            "Epoch 1/15\n",
            "8544/8544 [==============================] - 69s 8ms/sample - loss: 1.5767 - acc: 0.2684 - val_loss: 1.5700 - val_acc: 0.2870\n",
            "Epoch 2/15\n",
            "8544/8544 [==============================] - 69s 8ms/sample - loss: 1.5567 - acc: 0.2973 - val_loss: 1.5305 - val_acc: 0.3152\n",
            "Epoch 3/15\n",
            "8544/8544 [==============================] - 69s 8ms/sample - loss: 1.4707 - acc: 0.3635 - val_loss: 1.4339 - val_acc: 0.3715\n",
            "Epoch 4/15\n",
            "8544/8544 [==============================] - 69s 8ms/sample - loss: 1.3573 - acc: 0.4059 - val_loss: 1.3924 - val_acc: 0.3842\n",
            "Epoch 5/15\n",
            "8544/8544 [==============================] - 69s 8ms/sample - loss: 1.2613 - acc: 0.4322 - val_loss: 1.3810 - val_acc: 0.3915\n",
            "Epoch 6/15\n",
            "8544/8544 [==============================] - 68s 8ms/sample - loss: 1.1863 - acc: 0.4538 - val_loss: 1.3984 - val_acc: 0.3815\n",
            "Epoch 7/15\n",
            "8544/8544 [==============================] - 68s 8ms/sample - loss: 1.1223 - acc: 0.4696 - val_loss: 1.4430 - val_acc: 0.3742\n",
            "Epoch 8/15\n",
            "8544/8544 [==============================] - 69s 8ms/sample - loss: 1.0630 - acc: 0.4860 - val_loss: 1.4663 - val_acc: 0.3724\n",
            "Epoch 9/15\n",
            "8544/8544 [==============================] - 70s 8ms/sample - loss: 0.9979 - acc: 0.5103 - val_loss: 1.4914 - val_acc: 0.3769\n",
            "Epoch 10/15\n",
            "8544/8544 [==============================] - 71s 8ms/sample - loss: 0.9492 - acc: 0.5420 - val_loss: 1.5508 - val_acc: 0.3688\n",
            "Epoch 11/15\n",
            "8544/8544 [==============================] - 69s 8ms/sample - loss: 0.8945 - acc: 0.5679 - val_loss: 1.6387 - val_acc: 0.3642\n",
            "Epoch 12/15\n",
            "8512/8544 [============================>.] - ETA: 0s - loss: 0.8396 - acc: 0.6067\n",
            "Epoch 00012: ReduceLROnPlateau reducing learning rate to 0.00010000000474974513.\n",
            "8544/8544 [==============================] - 69s 8ms/sample - loss: 0.8404 - acc: 0.6066 - val_loss: 1.7040 - val_acc: 0.3669\n",
            "Epoch 13/15\n",
            "8544/8544 [==============================] - 69s 8ms/sample - loss: 0.7761 - acc: 0.6369 - val_loss: 1.6827 - val_acc: 0.3678\n",
            "Epoch 14/15\n",
            "8544/8544 [==============================] - 69s 8ms/sample - loss: 0.7572 - acc: 0.6447 - val_loss: 1.7030 - val_acc: 0.3660\n",
            "Epoch 15/15\n",
            "8544/8544 [==============================] - 69s 8ms/sample - loss: 0.7532 - acc: 0.6436 - val_loss: 1.7171 - val_acc: 0.3706\n",
            "dict_keys(['loss', 'acc', 'val_loss', 'val_acc', 'lr'])\n"
          ],
          "name": "stdout"
        },
        {
          "output_type": "display_data",
          "data": {
            "image/png": "[encoded data removed]",
            "text/plain": [
              "<Figure size 432x288 with 1 Axes>"
            ]
          },
          "metadata": {
            "tags": []
          }
        },
        {
          "output_type": "display_data",
          "data": {
            "image/png": "[encoded data removed]",
            "text/plain": [
              "<Figure size 432x288 with 1 Axes>"
            ]
          },
          "metadata": {
            "tags": []
          }
        }
      ]
    },
    {
      "cell_type": "code",
      "metadata": {
        "id": "i9LPhh8oejRA",
        "colab_type": "code",
        "colab": {
          "base_uri": "https://localhost:8080/",
          "height": 34
        },
        "outputId": "5ec53023-a9dd-41ed-805e-9d76cb0e5bc9"
      },
      "source": [
        "# 6 - Generate your predictions on the test set using model.predict(x_test)\n",
        "#     https://keras.io/models/model/\n",
        "#     Log your predictions in a file (one line = one integer: 0,1,2,3,4)\n",
        "#     Attach the output file \"logreg_lstm_y_test_sst.txt\" to your deliverable.\n",
        "\n",
        "\n",
        "# TYPE CODE HERE\n",
        "model =tf.keras.models.load_model('.mdl_lstm.hdf5') #best val accuracy: 0.3915\n",
        "print(np.shape(X_test_oh))\n",
        "prediction_test = np.argmax(model.predict(X_test_pad),axis=1)\n",
        "\n",
        "with open('./logreg_lstm_y_test_sst.txt', 'w') as f1:\n",
        "    for k in prediction_test:\n",
        "        f1.write(str(k) + os.linesep)\n",
        "    \n"
      ],
      "execution_count": 19,
      "outputs": [
        {
          "output_type": "stream",
          "text": [
            "(2210,)\n"
          ],
          "name": "stdout"
        }
      ]
    },
    {
      "cell_type": "markdown",
      "metadata": {
        "id": "jfxIXC9_ejRC",
        "colab_type": "text"
      },
      "source": [
        "## 4.3 - innovate: ! "
      ]
    },
    {
      "cell_type": "code",
      "metadata": {
        "id": "iwOy94-pLvv3",
        "colab_type": "code",
        "colab": {
          "base_uri": "https://localhost:8080/",
          "height": 836
        },
        "outputId": "a6475e7d-936b-4d4f-f95a-1e4b5678284b"
      },
      "source": [
        "# 7 - Open question: find a model that is better on your dev set\n",
        "#     (e.g: use a 1D ConvNet, use a better classifier, pretrain your lookup tables ..)\n",
        "#     you will get point if the results on the test set are better: be careful of not overfitting your dev set too much..\n",
        "#     Attach the output file \"XXX_XXX_y_test_sst.txt\" to your deliverable.\n",
        "\n",
        "# TYPE CODE HERE\n",
        "from tensorflow.keras.callbacks import ModelCheckpoint,ReduceLROnPlateau\n",
        "from tensorflow.keras.models import Sequential\n",
        "from tensorflow.keras.layers import Embedding, LSTM, Dense, Activation, Dropout, Conv1D, Flatten, GlobalMaxPooling1D,MaxPooling1D\n",
        "from tensorflow.keras.layers import Bidirectional \n",
        "from tensorflow.keras.optimizers import RMSprop\n",
        "from tensorflow.keras import backend as K\n",
        "from sklearn.metrics import accuracy_score\n",
        "embed_dim  = 300  # word embedding dimension\n",
        "nhid       = 50  # number of hidden units in the LSTM\n",
        "vocab_size = 50000  # size of the vocabulary\n",
        "n_classes  = 5\n",
        "\n",
        "\n",
        "mcp1 = ModelCheckpoint('weights.model_innovate.hdf5', monitor=\"val_acc\",save_best_only=True, save_weights_only=False)\n",
        "\n",
        "model = Sequential()\n",
        "model.add(Embedding(vocab_size, embed_dim))\n",
        "model.add(Conv1D(filters=32, kernel_size=3, padding='same', activation='relu'))\n",
        "model.add(MaxPooling1D(pool_size=5))\n",
        "model.add(Bidirectional(LSTM(nhid, dropout=0.4, recurrent_dropout=0.3,return_sequences=False))) #bidirectional LSTM layer\n",
        "model.add(Dense(n_classes, activation='sigmoid'))\n",
        "\n",
        "loss_classif     =  'categorical_crossentropy' # find the right loss for multi-class classification\n",
        "optimizer        =  'adam' # find the right optimizer\n",
        "metrics_classif  =  ['accuracy']\n",
        "lr_scheduler = ReduceLROnPlateau(monitor='val_loss', factor=0.1, patience=7, verbose=1, epsilon=1e-4, mode='min')\n",
        "\n",
        "model.compile(loss=loss_classif,\n",
        "              optimizer=optimizer,\n",
        "              metrics=metrics_classif)\n",
        "print(model.summary())\n",
        "\n",
        "bs = 64\n",
        "n_epochs = 6\n",
        "\n",
        "history = model.fit(X_train_pad, y_train_cat, batch_size=bs, nb_epoch=n_epochs, validation_data=(X_val_pad, y_val_cat), callbacks = [mcp1,lr_scheduler])\n",
        "print(history.history.keys())\n",
        "\n"
      ],
      "execution_count": 18,
      "outputs": [
        {
          "output_type": "stream",
          "text": [
            "WARNING:tensorflow:From /usr/local/lib/python3.6/dist-packages/tensorflow_core/python/ops/init_ops.py:97: calling GlorotUniform.__init__ (from tensorflow.python.ops.init_ops) with dtype is deprecated and will be removed in a future version.\n",
            "Instructions for updating:\n",
            "Call initializer instance with the dtype argument instead of passing it to the constructor\n",
            "WARNING:tensorflow:From /usr/local/lib/python3.6/dist-packages/tensorflow_core/python/ops/init_ops.py:97: calling Orthogonal.__init__ (from tensorflow.python.ops.init_ops) with dtype is deprecated and will be removed in a future version.\n",
            "Instructions for updating:\n",
            "Call initializer instance with the dtype argument instead of passing it to the constructor\n",
            "WARNING:tensorflow:From /usr/local/lib/python3.6/dist-packages/tensorflow_core/python/ops/init_ops.py:97: calling Zeros.__init__ (from tensorflow.python.ops.init_ops) with dtype is deprecated and will be removed in a future version.\n",
            "Instructions for updating:\n",
            "Call initializer instance with the dtype argument instead of passing it to the constructor\n",
            "WARNING:tensorflow:`epsilon` argument is deprecated and will be removed, use `min_delta` instead.\n",
            "Model: \"sequential_3\"\n",
            "_________________________________________________________________\n",
            "Layer (type)                 Output Shape              Param #   \n",
            "=================================================================\n",
            "embedding_3 (Embedding)      (None, None, 300)         15000000  \n",
            "_________________________________________________________________\n",
            "conv1d_3 (Conv1D)            (None, None, 32)          28832     \n",
            "_________________________________________________________________\n",
            "max_pooling1d (MaxPooling1D) (None, None, 32)          0         \n",
            "_________________________________________________________________\n",
            "bidirectional (Bidirectional (None, 100)               33200     \n",
            "_________________________________________________________________\n",
            "dense (Dense)                (None, 5)                 505       \n",
            "=================================================================\n",
            "Total params: 15,062,537\n",
            "Trainable params: 15,062,537\n",
            "Non-trainable params: 0\n",
            "_________________________________________________________________\n",
            "None\n",
            "WARNING:tensorflow:The `nb_epoch` argument in `fit` has been renamed `epochs`.\n",
            "WARNING:tensorflow:From /usr/local/lib/python3.6/dist-packages/tensorflow_core/python/ops/math_grad.py:1424: where (from tensorflow.python.ops.array_ops) is deprecated and will be removed in a future version.\n",
            "Instructions for updating:\n",
            "Use tf.where in 2.0, which has the same broadcast rule as np.where\n",
            "Train on 8544 samples, validate on 1101 samples\n",
            "Epoch 1/6\n",
            "8544/8544 [==============================] - 33s 4ms/sample - loss: 1.5697 - acc: 0.2742 - val_loss: 1.5524 - val_acc: 0.3233\n",
            "Epoch 2/6\n",
            "8544/8544 [==============================] - 32s 4ms/sample - loss: 1.4166 - acc: 0.3761 - val_loss: 1.3641 - val_acc: 0.3869\n",
            "Epoch 3/6\n",
            "8544/8544 [==============================] - 32s 4ms/sample - loss: 1.0834 - acc: 0.5145 - val_loss: 1.4332 - val_acc: 0.4078\n",
            "Epoch 4/6\n",
            "8544/8544 [==============================] - 31s 4ms/sample - loss: 0.7900 - acc: 0.6855 - val_loss: 1.6612 - val_acc: 0.3733\n",
            "Epoch 5/6\n",
            "8544/8544 [==============================] - 29s 3ms/sample - loss: 0.5053 - acc: 0.8194 - val_loss: 1.9823 - val_acc: 0.3660\n",
            "Epoch 6/6\n",
            "8544/8544 [==============================] - 30s 4ms/sample - loss: 0.3409 - acc: 0.8814 - val_loss: 2.2199 - val_acc: 0.3597\n",
            "dict_keys(['loss', 'acc', 'val_loss', 'val_acc', 'lr'])\n"
          ],
          "name": "stdout"
        }
      ]
    },
    {
      "cell_type": "code",
      "metadata": {
        "id": "JnQC3aqrkitk",
        "colab_type": "code",
        "colab": {
          "base_uri": "https://localhost:8080/",
          "height": 573
        },
        "outputId": "228daa42-e310-4864-810b-12f5ca92eadb"
      },
      "source": [
        "import matplotlib.pyplot as plt\n",
        "\n",
        "# summarize history for accuracy\n",
        "plt.plot(history.history['acc'])\n",
        "plt.plot(history.history['val_acc'])\n",
        "plt.title('model accuracy')\n",
        "plt.ylabel('accuracy')\n",
        "plt.xlabel('epoch')\n",
        "plt.legend(['train', 'val'], loc='upper left')\n",
        "plt.title('Innovate Model accuracy')\n",
        "\n",
        "plt.show()\n",
        "# summarize history for loss\n",
        "plt.plot(history.history['loss'])\n",
        "plt.plot(history.history['val_loss'])\n",
        "plt.title('model loss')\n",
        "plt.ylabel('loss')\n",
        "plt.xlabel('epoch')\n",
        "plt.legend(['train', 'val'], loc='upper left')\n",
        "plt.title('Innovate Model loss')\n",
        "plt.show()"
      ],
      "execution_count": 20,
      "outputs": [
        {
          "output_type": "display_data",
          "data": {
            "image/png": "[encoded data removed]",
            "text/plain": [
              "<Figure size 432x288 with 1 Axes>"
            ]
          },
          "metadata": {
            "tags": []
          }
        },
        {
          "output_type": "display_data",
          "data": {
            "image/png": "[encoded data removed]",
            "text/plain": [
              "<Figure size 432x288 with 1 Axes>"
            ]
          },
          "metadata": {
            "tags": []
          }
        }
      ]
    },
    {
      "cell_type": "code",
      "metadata": {
        "id": "rdnSH5Na08jk",
        "colab_type": "code",
        "colab": {}
      },
      "source": [
        "## Load the model\n",
        "model =tf.keras.models.load_model('weights.model_innovate.hdf5') #best val accuracy: 0.408\n"
      ],
      "execution_count": 0,
      "outputs": []
    },
    {
      "cell_type": "code",
      "metadata": {
        "id": "AKOd_6Ed1Aro",
        "colab_type": "code",
        "colab": {
          "base_uri": "https://localhost:8080/",
          "height": 34
        },
        "outputId": "a42de807-65cf-4d4f-cf2e-4921629beeb6"
      },
      "source": [
        "## Perform prediction \n",
        "prediction_test = np.argmax(model.predict(X_test_pad),axis=1)\n",
        "## export results\n",
        "with open('./innovate_lstm_y_test_sst.txt', 'w') as f1:\n",
        "    for k in prediction_test:\n",
        "        f1.write(str(k) + os.linesep)\n",
        "    "
      ],
      "execution_count": 21,
      "outputs": [
        {
          "output_type": "stream",
          "text": [
            "(2210,)\n"
          ],
          "name": "stdout"
        }
      ]
    }
  ]
}